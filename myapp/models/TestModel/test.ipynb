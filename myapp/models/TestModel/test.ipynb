{
 "cells": [
  {
   "cell_type": "code",
   "execution_count": 1,
   "id": "48ecd5c1",
   "metadata": {},
   "outputs": [
    {
     "name": "stdout",
     "output_type": "stream",
     "text": [
      "Requirement already satisfied: joblib in d:\\softwares\\envs\\trial\\lib\\site-packages (1.4.2)\n",
      "Requirement already satisfied: scikit-learn in d:\\softwares\\envs\\trial\\lib\\site-packages (1.5.2)\n",
      "Requirement already satisfied: numpy>=1.19.5 in d:\\softwares\\envs\\trial\\lib\\site-packages (from scikit-learn) (1.26.4)\n",
      "Requirement already satisfied: scipy>=1.6.0 in d:\\softwares\\envs\\trial\\lib\\site-packages (from scikit-learn) (1.13.1)\n",
      "Requirement already satisfied: joblib>=1.2.0 in d:\\softwares\\envs\\trial\\lib\\site-packages (from scikit-learn) (1.4.2)\n",
      "Requirement already satisfied: threadpoolctl>=3.1.0 in d:\\softwares\\envs\\trial\\lib\\site-packages (from scikit-learn) (3.5.0)\n"
     ]
    }
   ],
   "source": [
    "!pip install joblib\n",
    "!pip install scikit-learn"
   ]
  },
  {
   "cell_type": "code",
   "execution_count": 2,
   "id": "5c07cd47",
   "metadata": {},
   "outputs": [
    {
     "name": "stdout",
     "output_type": "stream",
     "text": [
      "Text: The local hospital introduced new mental health services.\n",
      "Predicted Topic: Health\n",
      "------------------------------------------------------------\n",
      "Text: Google and Microsoft are collaborating on a new AI platform.\n",
      "Predicted Topic: Technology\n",
      "------------------------------------------------------------\n",
      "Text: WHO released new guidelines to fight malaria.\n",
      "Predicted Topic: Climate Change\n",
      "------------------------------------------------------------\n",
      "Text: The UN warns of catastrophic climate impacts from carbon emissions.\n",
      "Predicted Topic: Climate Change\n",
      "------------------------------------------------------------\n",
      "Text: 5G towers are the real cause of people's sickness.\n",
      "Predicted Topic: Climate Change\n",
      "------------------------------------------------------------\n"
     ]
    }
   ],
   "source": [
    "import joblib\n",
    "\n",
    "# Load the saved model\n",
    "model = joblib.load(\"topic_classifier.pkl\")\n",
    "\n",
    "# Sample texts to test\n",
    "test_texts = [\n",
    "    \"The local hospital introduced new mental health services.\",\n",
    "    \"Google and Microsoft are collaborating on a new AI platform.\",\n",
    "    \"WHO released new guidelines to fight malaria.\",\n",
    "    \"The UN warns of catastrophic climate impacts from carbon emissions.\",\n",
    "    \"5G towers are the real cause of people's sickness.\"\n",
    "]\n",
    "\n",
    "# Predict topics\n",
    "predictions = model.predict(test_texts)\n",
    "\n",
    "# Show results\n",
    "for text, topic in zip(test_texts, predictions):\n",
    "    print(f\"Text: {text}\\nPredicted Topic: {topic}\\n{'-'*60}\")\n"
   ]
  },
  {
   "cell_type": "code",
   "execution_count": null,
   "id": "97a8000e",
   "metadata": {},
   "outputs": [],
   "source": []
  }
 ],
 "metadata": {
  "kernelspec": {
   "display_name": "trial",
   "language": "python",
   "name": "python3"
  },
  "language_info": {
   "codemirror_mode": {
    "name": "ipython",
    "version": 3
   },
   "file_extension": ".py",
   "mimetype": "text/x-python",
   "name": "python",
   "nbconvert_exporter": "python",
   "pygments_lexer": "ipython3",
   "version": "3.10.12"
  }
 },
 "nbformat": 4,
 "nbformat_minor": 5
}
